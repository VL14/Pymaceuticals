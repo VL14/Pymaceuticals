{
 "cells": [
  {
   "cell_type": "markdown",
   "metadata": {},
   "source": [
    "## Observations and Insights\n",
    "#Capomulin and Ramicane have the lowest mean, median, and variance of all the drug regimens used in the study, while Ketapril and Naftisol have the lowest mean, median, and variance of all the drug regimens used.\n",
    "#All drug regimens had between 150 and 250 data points spread across different timepoints.\n",
    "#The split between male and female mice was very close to 50/50.\n",
    "#All final tumor volumes for Capomulin and Ramicane were between 20-50 mm3, while the next 2 best-performing drugs (Infubinol and Ceftamin) had final tumor volumes of 60-75 mm3.\n",
    "#There is a strong correlation between mouse weight and average tumor volume for the Capomulin drug regimen (Pearson's correlation coefficient = 0.84)."
   ]
  },
  {
   "cell_type": "markdown",
   "metadata": {},
   "source": []
  },
  {
   "cell_type": "markdown",
   "metadata": {},
   "source": [
    "## Dependencies and starter code"
   ]
  },
  {
   "cell_type": "code",
   "execution_count": 1,
   "metadata": {},
   "outputs": [],
   "source": [
    "# Dependencies and Setup\n",
    "import matplotlib.pyplot as plt\n",
    "import pandas as pd\n",
    "import numpy as np\n",
    "import scipy.stats as st\n",
    "\n",
    "# Study data files\n",
    "mouse_metadata = \"data/Mouse_metadata.csv\"\n",
    "study_results = \"data/Study_results.csv\"\n",
    "\n",
    "# Read the mouse data and the study results\n",
    "mouse_metadata = pd.read_csv(mouse_metadata)\n",
    "study_results = pd.read_csv(study_results)\n",
    "\n",
    "# Combine the data into a single dataset\n",
    "alldata = pd.merge(mouse_metadata,study_results,on=\"Mouse ID\", how=\"inner\")"
   ]
  },
  {
   "cell_type": "markdown",
   "metadata": {},
   "source": [
    "## Summary statistics"
   ]
  },
  {
   "cell_type": "code",
   "execution_count": 2,
   "metadata": {},
   "outputs": [],
   "source": [
    "#Create groupby based on drug\n",
    "drug_groupby = alldata.groupby([\"Drug Regimen\"])\n",
    "mean_by_drug = drug_groupby.mean()"
   ]
  },
  {
   "cell_type": "code",
   "execution_count": 3,
   "metadata": {},
   "outputs": [
    {
     "data": {
      "text/html": [
       "<div>\n",
       "<style scoped>\n",
       "    .dataframe tbody tr th:only-of-type {\n",
       "        vertical-align: middle;\n",
       "    }\n",
       "\n",
       "    .dataframe tbody tr th {\n",
       "        vertical-align: top;\n",
       "    }\n",
       "\n",
       "    .dataframe thead th {\n",
       "        text-align: right;\n",
       "    }\n",
       "</style>\n",
       "<table border=\"1\" class=\"dataframe\">\n",
       "  <thead>\n",
       "    <tr style=\"text-align: right;\">\n",
       "      <th></th>\n",
       "      <th>Mean</th>\n",
       "      <th>Median</th>\n",
       "      <th>Variance</th>\n",
       "      <th>Std Deviation</th>\n",
       "      <th>Std Error of Mean (SEM)</th>\n",
       "    </tr>\n",
       "    <tr>\n",
       "      <th>Drug Regimen</th>\n",
       "      <th></th>\n",
       "      <th></th>\n",
       "      <th></th>\n",
       "      <th></th>\n",
       "      <th></th>\n",
       "    </tr>\n",
       "  </thead>\n",
       "  <tbody>\n",
       "    <tr>\n",
       "      <th>Capomulin</th>\n",
       "      <td>40.675741</td>\n",
       "      <td>41.557809</td>\n",
       "      <td>24.947764</td>\n",
       "      <td>4.994774</td>\n",
       "      <td>0.329346</td>\n",
       "    </tr>\n",
       "    <tr>\n",
       "      <th>Ceftamin</th>\n",
       "      <td>52.591172</td>\n",
       "      <td>51.776157</td>\n",
       "      <td>39.290177</td>\n",
       "      <td>6.268188</td>\n",
       "      <td>0.469821</td>\n",
       "    </tr>\n",
       "    <tr>\n",
       "      <th>Infubinol</th>\n",
       "      <td>52.884795</td>\n",
       "      <td>51.820584</td>\n",
       "      <td>43.128684</td>\n",
       "      <td>6.567243</td>\n",
       "      <td>0.492236</td>\n",
       "    </tr>\n",
       "    <tr>\n",
       "      <th>Ketapril</th>\n",
       "      <td>55.235638</td>\n",
       "      <td>53.698743</td>\n",
       "      <td>68.553577</td>\n",
       "      <td>8.279709</td>\n",
       "      <td>0.603860</td>\n",
       "    </tr>\n",
       "    <tr>\n",
       "      <th>Naftisol</th>\n",
       "      <td>54.331565</td>\n",
       "      <td>52.509285</td>\n",
       "      <td>66.173479</td>\n",
       "      <td>8.134708</td>\n",
       "      <td>0.596466</td>\n",
       "    </tr>\n",
       "    <tr>\n",
       "      <th>Placebo</th>\n",
       "      <td>54.033581</td>\n",
       "      <td>52.288934</td>\n",
       "      <td>61.168083</td>\n",
       "      <td>7.821003</td>\n",
       "      <td>0.581331</td>\n",
       "    </tr>\n",
       "    <tr>\n",
       "      <th>Propriva</th>\n",
       "      <td>52.322552</td>\n",
       "      <td>50.854632</td>\n",
       "      <td>42.351070</td>\n",
       "      <td>6.507770</td>\n",
       "      <td>0.512884</td>\n",
       "    </tr>\n",
       "    <tr>\n",
       "      <th>Ramicane</th>\n",
       "      <td>40.216745</td>\n",
       "      <td>40.673236</td>\n",
       "      <td>23.486704</td>\n",
       "      <td>4.846308</td>\n",
       "      <td>0.320955</td>\n",
       "    </tr>\n",
       "    <tr>\n",
       "      <th>Stelasyn</th>\n",
       "      <td>54.233149</td>\n",
       "      <td>52.431737</td>\n",
       "      <td>59.450562</td>\n",
       "      <td>7.710419</td>\n",
       "      <td>0.573111</td>\n",
       "    </tr>\n",
       "    <tr>\n",
       "      <th>Zoniferol</th>\n",
       "      <td>53.236507</td>\n",
       "      <td>51.818479</td>\n",
       "      <td>48.533355</td>\n",
       "      <td>6.966589</td>\n",
       "      <td>0.516398</td>\n",
       "    </tr>\n",
       "  </tbody>\n",
       "</table>\n",
       "</div>"
      ],
      "text/plain": [
       "                   Mean     Median   Variance  Std Deviation  \\\n",
       "Drug Regimen                                                   \n",
       "Capomulin     40.675741  41.557809  24.947764       4.994774   \n",
       "Ceftamin      52.591172  51.776157  39.290177       6.268188   \n",
       "Infubinol     52.884795  51.820584  43.128684       6.567243   \n",
       "Ketapril      55.235638  53.698743  68.553577       8.279709   \n",
       "Naftisol      54.331565  52.509285  66.173479       8.134708   \n",
       "Placebo       54.033581  52.288934  61.168083       7.821003   \n",
       "Propriva      52.322552  50.854632  42.351070       6.507770   \n",
       "Ramicane      40.216745  40.673236  23.486704       4.846308   \n",
       "Stelasyn      54.233149  52.431737  59.450562       7.710419   \n",
       "Zoniferol     53.236507  51.818479  48.533355       6.966589   \n",
       "\n",
       "              Std Error of Mean (SEM)  \n",
       "Drug Regimen                           \n",
       "Capomulin                    0.329346  \n",
       "Ceftamin                     0.469821  \n",
       "Infubinol                    0.492236  \n",
       "Ketapril                     0.603860  \n",
       "Naftisol                     0.596466  \n",
       "Placebo                      0.581331  \n",
       "Propriva                     0.512884  \n",
       "Ramicane                     0.320955  \n",
       "Stelasyn                     0.573111  \n",
       "Zoniferol                    0.516398  "
      ]
     },
     "execution_count": 3,
     "metadata": {},
     "output_type": "execute_result"
    }
   ],
   "source": [
    "#Start summary statistics DF for mean tumor volume by drug\n",
    "summary_stats = pd.DataFrame(mean_by_drug[\"Tumor Volume (mm3)\"])\n",
    "summary_stats = summary_stats.rename(columns={\"Tumor Volume (mm3)\":\"Mean\"})\n",
    "\n",
    "#Append median tumor volume by drug\n",
    "median_by_drug = drug_groupby.median()\n",
    "summary_stats[\"Median\"] = median_by_drug[\"Tumor Volume (mm3)\"]\n",
    "\n",
    "#Append variance of tumor volume\n",
    "var_by_drug = drug_groupby.var()\n",
    "summary_stats[\"Variance\"] = var_by_drug[\"Tumor Volume (mm3)\"]\n",
    "\n",
    "#Append std deviation\n",
    "std_dev_by_drug = drug_groupby.std()\n",
    "summary_stats[\"Std Deviation\"] = std_dev_by_drug[\"Tumor Volume (mm3)\"]\n",
    "\n",
    "#Append SEM\n",
    "sem_by_drug = drug_groupby.sem()\n",
    "summary_stats[\"Std Error of Mean (SEM)\"] = sem_by_drug[\"Tumor Volume (mm3)\"]\n",
    "summary_stats"
   ]
  },
  {
   "cell_type": "markdown",
   "metadata": {},
   "source": [
    "## Bar plots"
   ]
  },
  {
   "cell_type": "code",
   "execution_count": 4,
   "metadata": {},
   "outputs": [],
   "source": [
    "# Generate a bar plot showing number of data points for each treatment regimen using pyplot\n",
    "# Create series for x-axis and y-axies\n",
    "drugs = alldata[\"Drug Regimen\"].unique()\n",
    "drugs.sort()\n",
    "datapts = drug_groupby.count()\n",
    "datapts_x = datapts[\"Sex\"]"
   ]
  },
  {
   "cell_type": "code",
   "execution_count": 7,
   "metadata": {},
   "outputs": [
    {
     "data": {
      "text/plain": [
       "(array([0., 1., 2., 3., 4., 5., 6., 7., 8., 9.]),\n",
       " <a list of 10 Text xticklabel objects>)"
      ]
     },
     "execution_count": 7,
     "metadata": {},
     "output_type": "execute_result"
    },
    {
     "data": {
      "image/png": "[encoded data removed]",
      "text/plain": [
       "<Figure size 432x288 with 1 Axes>"
      ]
     },
     "metadata": {
      "needs_background": "light"
     },
     "output_type": "display_data"
    }
   ],
   "source": [
    "#Set up bar chart\n",
    "plt.bar(drugs, datapts_x, color=\"b\", align=\"center\")\n",
    "tick_locations = [value for value in drugs]\n",
    "plt.xticks(tick_locations,drugs)\n",
    "plt.xlim(-0.75,len(drugs)-0.25)\n",
    "plt.ylim(0,max(datapts_x)+20)\n",
    "\n",
    "#Create labels, rotate x-axis labels, sort drugs alphabetically\n",
    "plt.title(\"Number of Data Points By Drug Regimen (pyplot)\")\n",
    "plt.xlabel(\"Drug Regimen\")\n",
    "plt.ylabel(\"Number of Data Points\")\n",
    "plt.xticks(rotation = 90)"
   ]
  },
  {
   "cell_type": "code",
   "execution_count": 8,
   "metadata": {},
   "outputs": [],
   "source": [
    "#Clear plot\n",
    "plt.show()"
   ]
  },
  {
   "cell_type": "code",
   "execution_count": 9,
   "metadata": {},
   "outputs": [
    {
     "data": {
      "image/png": "[encoded data removed]",
      "text/plain": [
       "<Figure size 432x288 with 1 Axes>"
      ]
     },
     "metadata": {
      "needs_background": "light"
     },
     "output_type": "display_data"
    }
   ],
   "source": [
    "# Generate a bar plot showing number of data points for each treatment regimen using pandas\n",
    "datapts_x.plot(kind=\"bar\", facecolor=\"blue\")\n",
    "\n",
    "#Create labels, rotate x-axis labels, sort drugs alphabetically\n",
    "plt.title(\"Number of Data Points By Drug Regimen (Pandas)\")\n",
    "plt.xlabel(\"Drug Regimen\")\n",
    "plt.ylabel(\"Number of Data Points\")\n",
    "plt.tight_layout()\n",
    "plt.show()"
   ]
  },
  {
   "cell_type": "markdown",
   "metadata": {},
   "source": [
    "## Pie plots"
   ]
  },
  {
   "cell_type": "code",
   "execution_count": 10,
   "metadata": {},
   "outputs": [
    {
     "data": {
      "text/html": [
       "<div>\n",
       "<style scoped>\n",
       "    .dataframe tbody tr th:only-of-type {\n",
       "        vertical-align: middle;\n",
       "    }\n",
       "\n",
       "    .dataframe tbody tr th {\n",
       "        vertical-align: top;\n",
       "    }\n",
       "\n",
       "    .dataframe thead th {\n",
       "        text-align: right;\n",
       "    }\n",
       "</style>\n",
       "<table border=\"1\" class=\"dataframe\">\n",
       "  <thead>\n",
       "    <tr style=\"text-align: right;\">\n",
       "      <th></th>\n",
       "      <th>Mouse ID</th>\n",
       "      <th>Drug Regimen</th>\n",
       "      <th>Age_months</th>\n",
       "      <th>Weight (g)</th>\n",
       "      <th>Timepoint</th>\n",
       "      <th>Tumor Volume (mm3)</th>\n",
       "      <th>Metastatic Sites</th>\n",
       "    </tr>\n",
       "    <tr>\n",
       "      <th>Sex</th>\n",
       "      <th></th>\n",
       "      <th></th>\n",
       "      <th></th>\n",
       "      <th></th>\n",
       "      <th></th>\n",
       "      <th></th>\n",
       "      <th></th>\n",
       "    </tr>\n",
       "  </thead>\n",
       "  <tbody>\n",
       "    <tr>\n",
       "      <th>Female</th>\n",
       "      <td>49.392499</td>\n",
       "      <td>49.392499</td>\n",
       "      <td>49.392499</td>\n",
       "      <td>49.392499</td>\n",
       "      <td>49.392499</td>\n",
       "      <td>49.392499</td>\n",
       "      <td>49.392499</td>\n",
       "    </tr>\n",
       "    <tr>\n",
       "      <th>Male</th>\n",
       "      <td>50.607501</td>\n",
       "      <td>50.607501</td>\n",
       "      <td>50.607501</td>\n",
       "      <td>50.607501</td>\n",
       "      <td>50.607501</td>\n",
       "      <td>50.607501</td>\n",
       "      <td>50.607501</td>\n",
       "    </tr>\n",
       "  </tbody>\n",
       "</table>\n",
       "</div>"
      ],
      "text/plain": [
       "         Mouse ID  Drug Regimen  Age_months  Weight (g)  Timepoint  \\\n",
       "Sex                                                                  \n",
       "Female  49.392499     49.392499   49.392499   49.392499  49.392499   \n",
       "Male    50.607501     50.607501   50.607501   50.607501  50.607501   \n",
       "\n",
       "        Tumor Volume (mm3)  Metastatic Sites  \n",
       "Sex                                           \n",
       "Female           49.392499         49.392499  \n",
       "Male             50.607501         50.607501  "
      ]
     },
     "execution_count": 10,
     "metadata": {},
     "output_type": "execute_result"
    }
   ],
   "source": [
    "# Generate a pie plot showing the distribution of female versus male mice using pandas\n",
    "# Create a groupby based on sex\n",
    "sex_groupby = alldata.groupby([\"Sex\"])\n",
    "\n",
    "# Determine percent of each sex\n",
    "count_by_sex = sex_groupby.count()/datapts_x.sum()*100\n",
    "count_by_sex"
   ]
  },
  {
   "cell_type": "code",
   "execution_count": 11,
   "metadata": {},
   "outputs": [
    {
     "data": {
      "image/png": "[encoded data removed]",
      "text/plain": [
       "<Figure size 432x288 with 1 Axes>"
      ]
     },
     "metadata": {},
     "output_type": "display_data"
    }
   ],
   "source": [
    "# Create pie plot using Pandas\n",
    "gender_pie = count_by_sex[\"Mouse ID\"].plot(kind=\"pie\", y={\"Female\",\"Male\"}, autopct='%.2f',\n",
    "                                           colors=['pink','lightblue'],title = \"Distribution of Female vs Male Mice (Pandas)\")\n",
    "gender_pie.set_ylabel(\"Gender\")\n",
    "plt.show()"
   ]
  },
  {
   "cell_type": "code",
   "execution_count": 12,
   "metadata": {},
   "outputs": [
    {
     "data": {
      "image/png": "[encoded data removed]",
      "text/plain": [
       "<Figure size 432x288 with 1 Axes>"
      ]
     },
     "metadata": {},
     "output_type": "display_data"
    }
   ],
   "source": [
    "# Generate a pie plot showing the distribution of female versus male mice using pyplot\n",
    "# Save gender counts as series\n",
    "gender_count = sex_groupby.count()\n",
    "gender_for_pie = gender_count[\"Mouse ID\"]\n",
    "gender_for_pie\n",
    "\n",
    "labels = [\"Female\", \"Male\"]\n",
    "colors = [\"pink\",\"lightblue\"]\n",
    "plt.pie(gender_for_pie, labels=labels, colors=colors,autopct=\"%.2f\", shadow=True)\n",
    "plt.title(\"Distribution of Female vs Male Mice (pyplot)\")\n",
    "plt.show()"
   ]
  },
  {
   "cell_type": "markdown",
   "metadata": {},
   "source": [
    "## Quartiles, outliers and boxplots"
   ]
  },
  {
   "cell_type": "code",
   "execution_count": 13,
   "metadata": {},
   "outputs": [],
   "source": [
    "# Calculate the final tumor volume of each mouse across four of the most promising treatment regimens. Calculate the IQR and quantitatively determine if there are any potential outliers. \n",
    "# Create new DF for top 4 regimens\n",
    "data_top4 = alldata.loc[(alldata[\"Drug Regimen\"]==\"Capomulin\") | (alldata[\"Drug Regimen\"]==\"Ramicane\") |\n",
    "                        (alldata[\"Drug Regimen\"]==\"Infubinol\") | (alldata[\"Drug Regimen\"]==\"Ceftamin\"),:]\n",
    "\n",
    "#Filter DF to only show rows for last timepoint\n",
    "last_timept = data_top4.loc[data_top4[\"Timepoint\"] == 45,:]"
   ]
  },
  {
   "cell_type": "code",
   "execution_count": 14,
   "metadata": {},
   "outputs": [],
   "source": [
    "# Create DFs for final tumor volume for each of the top 4 drug regimens\n",
    "data_cap = last_timept.loc[(last_timept[\"Drug Regimen\"] == \"Capomulin\")]\n",
    "final_vol_cap = data_cap[\"Tumor Volume (mm3)\"]\n",
    "\n",
    "data_cef = last_timept.loc[(last_timept[\"Drug Regimen\"] == \"Ceftamin\")]\n",
    "final_vol_cef = data_cef[\"Tumor Volume (mm3)\"]\n",
    "\n",
    "data_inf = last_timept.loc[(last_timept[\"Drug Regimen\"] == \"Infubinol\")]\n",
    "final_vol_inf = data_inf[\"Tumor Volume (mm3)\"]\n",
    "\n",
    "data_ram = last_timept.loc[(last_timept[\"Drug Regimen\"] == \"Ramicane\")]\n",
    "final_vol_ram = data_ram[\"Tumor Volume (mm3)\"]"
   ]
  },
  {
   "cell_type": "code",
   "execution_count": 15,
   "metadata": {},
   "outputs": [
    {
     "name": "stdout",
     "output_type": "stream",
     "text": [
      "The lower quartile of Capomulin tumor volume is: 32.377\n",
      "The upper quartile of Capomulin tumor volume is: 40.159\n",
      "The interquartile range of Capomulin tumor volume is: 7.782\n",
      "Values below 20.704 could be outliers.\n",
      "Values above 51.832 could be outliers.\n",
      "Capomulin final tumor volume values:[23.344 28.484 28.431 31.024 31.896 32.377 33.329 34.455 37.312 36.041\n",
      " 37.074 38.847 38.94  38.983 38.125 40.658 40.159 40.729 41.483 41.582\n",
      " 47.686]\n"
     ]
    }
   ],
   "source": [
    "#Calculate quartiles and IQR for Capomulin\n",
    "lowerq_cap = np.quantile(final_vol_cap, 0.25).round(3)\n",
    "upperq_cap = np.quantile(final_vol_cap, 0.75).round(3)\n",
    "iqr_cap = (upperq_cap - lowerq_cap).round(3)\n",
    "\n",
    "print(f\"The lower quartile of Capomulin tumor volume is: {lowerq_cap}\")\n",
    "print(f\"The upper quartile of Capomulin tumor volume is: {upperq_cap}\")\n",
    "print(f\"The interquartile range of Capomulin tumor volume is: {iqr_cap}\")\n",
    "\n",
    "lower_bound_cap = (lowerq_cap - (1.5*iqr_cap)).round(3)\n",
    "upper_bound_cap = (upperq_cap + (1.5*iqr_cap)).round(3)\n",
    "values_cap = final_vol_cap.values.round(3)\n",
    "print(f\"Values below {lower_bound_cap} could be outliers.\")\n",
    "print(f\"Values above {upper_bound_cap} could be outliers.\")\n",
    "print(f\"Capomulin final tumor volume values:{values_cap}\")"
   ]
  },
  {
   "cell_type": "code",
   "execution_count": 16,
   "metadata": {},
   "outputs": [
    {
     "name": "stdout",
     "output_type": "stream",
     "text": [
      "The lower quartile of Ceftamin tumor volume is: 61.434\n",
      "The upper quartile of Ceftamin tumor volume is: 67.527\n",
      "The interquartile range of Ceftamin tumor volume is: 6.093\n",
      "Values below 52.294 could be outliers.\n",
      "Values above 76.666 could be outliers.\n",
      "Ceftamin final tumor volume values:[62.999 61.849 68.923 67.749 59.852 64.3   59.742 61.434 67.527 64.635\n",
      " 61.387 68.595 64.73 ]\n"
     ]
    }
   ],
   "source": [
    "#Calculate quartiles and IQR for Ceftamin\n",
    "lowerq_cef = np.quantile(final_vol_cef, 0.25).round(3)\n",
    "upperq_cef = np.quantile(final_vol_cef, 0.75).round(3)\n",
    "iqr_cef = (upperq_cef - lowerq_cef).round(3)\n",
    "\n",
    "print(f\"The lower quartile of Ceftamin tumor volume is: {lowerq_cef}\")\n",
    "print(f\"The upper quartile of Ceftamin tumor volume is: {upperq_cef}\")\n",
    "print(f\"The interquartile range of Ceftamin tumor volume is: {iqr_cef}\")\n",
    "\n",
    "lower_bound_cap = (lowerq_cef - (1.5*iqr_cef)).round(3)\n",
    "upper_bound_cap = (upperq_cef + (1.5*iqr_cef)).round(3)\n",
    "values_cef = final_vol_cef.values.round(3)\n",
    "print(f\"Values below {lower_bound_cap} could be outliers.\")\n",
    "print(f\"Values above {upper_bound_cap} could be outliers.\")\n",
    "print(f\"Ceftamin final tumor volume values:{values_cef}\")"
   ]
  },
  {
   "cell_type": "code",
   "execution_count": 17,
   "metadata": {},
   "outputs": [
    {
     "name": "stdout",
     "output_type": "stream",
     "text": [
      "The lower quartile of Infubinol tumor volume is: 62.754\n",
      "The upper quartile of Infubinol tumor volume is: 67.686\n",
      "The interquartile range of Infubinol tumor volume is: 4.932\n",
      "Values below 55.356 could be outliers.\n",
      "Values above 75.084 could be outliers.\n",
      "Infubinol final tumor volume values:[67.973 65.526 66.083 72.227 62.435 60.919 66.197 67.686 62.754]\n"
     ]
    }
   ],
   "source": [
    "#Calculate quartiles and IQR for Infubinol\n",
    "lowerq_inf = np.quantile(final_vol_inf, 0.25).round(3)\n",
    "upperq_inf = np.quantile(final_vol_inf, 0.75).round(3)\n",
    "iqr_inf = (upperq_inf - lowerq_inf).round(3)\n",
    "\n",
    "print(f\"The lower quartile of Infubinol tumor volume is: {lowerq_inf}\")\n",
    "print(f\"The upper quartile of Infubinol tumor volume is: {upperq_inf}\")\n",
    "print(f\"The interquartile range of Infubinol tumor volume is: {iqr_inf}\")\n",
    "\n",
    "lower_bound_inf = (lowerq_inf - (1.5*iqr_inf)).round(3)\n",
    "upper_bound_inf = (upperq_inf + (1.5*iqr_inf)).round(3)\n",
    "values_inf = final_vol_inf.values.round(3)\n",
    "print(f\"Values below {lower_bound_inf} could be outliers.\")\n",
    "print(f\"Values above {upper_bound_inf} could be outliers.\")\n",
    "print(f\"Infubinol final tumor volume values:{values_inf}\")"
   ]
  },
  {
   "cell_type": "code",
   "execution_count": 18,
   "metadata": {},
   "outputs": [
    {
     "name": "stdout",
     "output_type": "stream",
     "text": [
      "The lower quartile of Ramicane tumor volume is: 30.981\n",
      "The upper quartile of Ramicane tumor volume is: 38.508\n",
      "The interquartile range of Ramicane tumor volume is: 7.527\n",
      "Values below 19.69 could be outliers.\n",
      "Values above 49.799 could be outliers.\n",
      "Ramicane final tumor volume values:[22.05  29.128 30.276 30.565 30.639 31.56  31.095 33.398 32.979 33.562\n",
      " 36.135 38.81  37.226 36.375 37.311 38.408 40.659 40.668 45.221 43.048]\n"
     ]
    }
   ],
   "source": [
    "#Calculate quartiles and IQR for Ramicane\n",
    "lowerq_ram = np.quantile(final_vol_ram, 0.25).round(3)\n",
    "upperq_ram = np.quantile(final_vol_ram, 0.75).round(3)\n",
    "iqr_ram = (upperq_ram - lowerq_ram).round(3)\n",
    "\n",
    "print(f\"The lower quartile of Ramicane tumor volume is: {lowerq_ram}\")\n",
    "print(f\"The upper quartile of Ramicane tumor volume is: {upperq_ram}\")\n",
    "print(f\"The interquartile range of Ramicane tumor volume is: {iqr_ram}\")\n",
    "\n",
    "lower_bound_ram = (lowerq_ram - (1.5*iqr_ram)).round(3)\n",
    "upper_bound_ram = (upperq_ram + (1.5*iqr_ram)).round(3)\n",
    "values_ram = final_vol_ram.values.round(3)\n",
    "print(f\"Values below {lower_bound_ram} could be outliers.\")\n",
    "print(f\"Values above {upper_bound_ram} could be outliers.\")\n",
    "print(f\"Ramicane final tumor volume values:{values_ram}\")"
   ]
  },
  {
   "cell_type": "code",
   "execution_count": 19,
   "metadata": {},
   "outputs": [
    {
     "data": {
      "text/plain": [
       "[None, None, None, None, None, None, None, None]"
      ]
     },
     "execution_count": 19,
     "metadata": {},
     "output_type": "execute_result"
    },
    {
     "data": {
      "image/png": "[encoded data removed]",
      "text/plain": [
       "<Figure size 432x288 with 1 Axes>"
      ]
     },
     "metadata": {
      "needs_background": "light"
     },
     "output_type": "display_data"
    }
   ],
   "source": [
    "# Generate a box plot of the final tumor volume of each mouse across four regimens of interest\n",
    "fig1,ax1 = plt.subplots()\n",
    "ax1.set_title(\"Final Tumor Volume for Top 4 Drug Regimens\")\n",
    "ax1.set_label(\"Final Tumor Vol (mm3)\")\n",
    "\n",
    "box_data = list([final_vol_cap, final_vol_cef, final_vol_inf, final_vol_ram])\n",
    "bp=ax1.boxplot(box_data)\n",
    "\n",
    "# Format box plot\n",
    "ax1.set_xticklabels([\"Capomulin\",\"Ceftamin\",\"Infubinol\",\"Ramicane\"])\n",
    "ax1.yaxis.grid(True, linestyle='-', which='major', color='lightgrey',\n",
    "               alpha=0.5)\n",
    "ax1.set_ylim(20,80)\n",
    "plt.setp(bp['boxes'], color='b')\n",
    "plt.setp(bp['whiskers'],color='b')\n",
    "plt.setp(bp['caps'],color='b')\n",
    "ax1.set_ylabel(\"Final Tumor Vol (mm3)\")\n",
    "\n",
    "# Create different color and symbol for outliers\n",
    "plt.setp(bp['fliers'], color='red', marker='+')"
   ]
  },
  {
   "cell_type": "markdown",
   "metadata": {},
   "source": [
    "## Line and scatter plots"
   ]
  },
  {
   "cell_type": "code",
   "execution_count": 3,
   "metadata": {},
   "outputs": [],
   "source": [
    "# Generate a line plot of time point versus tumor volume for a mouse treated with Capomulin\n",
    "# Filter a single Capomulin mouse into a new DF\n",
    "line_data = alldata.loc[(alldata[\"Mouse ID\"] == \"b742\"),:]"
   ]
  },
  {
   "cell_type": "code",
   "execution_count": 21,
   "metadata": {},
   "outputs": [
    {
     "data": {
      "text/plain": [
       "(36.95035546, 46.0)"
      ]
     },
     "execution_count": 21,
     "metadata": {},
     "output_type": "execute_result"
    },
    {
     "data": {
      "image/png": "[encoded data removed]",
      "text/plain": [
       "<Figure size 432x288 with 1 Axes>"
      ]
     },
     "metadata": {
      "needs_background": "light"
     },
     "output_type": "display_data"
    }
   ],
   "source": [
    "# Create line plot\n",
    "x_axis = line_data[\"Timepoint\"]\n",
    "line_y = line_data[\"Tumor Volume (mm3)\"]\n",
    "handle = plt.plot(x_axis,line_y,marker = \"o\", color='g', label=\"b742\")\n",
    "\n",
    "#Add labels, legend and limits\n",
    "plt.title(\"Tumor Volume For Single Mouse On Capomulin\")\n",
    "plt.legend(loc=\"best\")\n",
    "plt.xlabel(\"Timepoint\")\n",
    "plt.ylabel(\"Tumor Volume (mm3)\")\n",
    "plt.xlim(-0.75,max(x_axis)+5)\n",
    "plt.ylim(min(line_data[\"Tumor Volume (mm3)\"])-1,max(line_data[\"Tumor Volume (mm3)\"])+1)"
   ]
  },
  {
   "cell_type": "code",
   "execution_count": 4,
   "metadata": {},
   "outputs": [],
   "source": [
    "# Generate a scatter plot of mouse weight versus average tumor volume for the Capomulin regimen\n",
    "# Determine mean tumor volume per mouse\n",
    "alldata_cap = alldata.loc[(alldata[\"Drug Regimen\"]==\"Capomulin\"),:]\n",
    "alldata_cap_group = alldata_cap.groupby([\"Mouse ID\"])\n",
    "alldata_cap_mean = alldata_cap_group.mean()   \n",
    "scatter_tumorvol = alldata_cap_mean['Tumor Volume (mm3)']\n",
    "\n",
    "#Create series for mouse weight\n",
    "scatter_weight = alldata_cap_mean[\"Weight (g)\"]"
   ]
  },
  {
   "cell_type": "code",
   "execution_count": 65,
   "metadata": {},
   "outputs": [
    {
     "data": {
      "image/png": "[encoded data removed]",
      "text/plain": [
       "<Figure size 432x288 with 1 Axes>"
      ]
     },
     "metadata": {
      "needs_background": "light"
     },
     "output_type": "display_data"
    }
   ],
   "source": [
    "#Create scatter plot\n",
    "x_limit = (scatter_weight.max())+1\n",
    "plt.scatter(scatter_weight, scatter_tumorvol, marker=\"^\", facecolors='g',edgecolors='k')\n",
    "plt.xlim(14,x_limit)\n",
    "plt.ylim(32,48)\n",
    "\n",
    "#Create plot title, limits, and labels\n",
    "plt.title(\"Mouse Weight vs Average Tumor Volume for Capomulin\")\n",
    "plt.xlabel(\"Mouse Weight (g)\")\n",
    "plt.ylabel(\"Tumor Volume (mm3)\")\n",
    "plt.grid(True, linestyle='-', which='major', color='lightgrey',\n",
    "               alpha=0.5)\n",
    "\n",
    "plt.show()"
   ]
  },
  {
   "cell_type": "code",
   "execution_count": 74,
   "metadata": {},
   "outputs": [
    {
     "name": "stdout",
     "output_type": "stream",
     "text": [
      "                    Weight (g)  Tumor Volume (mm3)\n",
      "Weight (g)            1.000000            0.841936\n",
      "Tumor Volume (mm3)    0.841936            1.000000\n"
     ]
    }
   ],
   "source": [
    "# Calculate the correlation coefficient and linear regression model for mouse weight and average tumor volume for the Capomulin regimen\n",
    "corr_df = pd.DataFrame({\"Weight (g)\": scatter_weight, \"Tumor Volume (mm3)\": scatter_tumorvol})\n",
    "\n",
    "pearsoncorr = corr_df.corr(method='pearson')\n",
    "print(pearsoncorr)"
   ]
  },
  {
   "cell_type": "code",
   "execution_count": 76,
   "metadata": {},
   "outputs": [
    {
     "data": {
      "image/png": "[encoded data removed]",
      "text/plain": [
       "<Figure size 432x288 with 1 Axes>"
      ]
     },
     "metadata": {
      "needs_background": "light"
     },
     "output_type": "display_data"
    }
   ],
   "source": [
    "from scipy import stats\n",
    "\n",
    "# Perform a linear regression on year versus violent crime rate\n",
    "vc_slope, vc_int, vc_r, vc_p, vc_std_err = stats.linregress(scatter_weight, scatter_tumorvol)\n",
    "\n",
    "# Create equation of line to calculate predicted violent crime rate\n",
    "vc_fit = vc_slope * scatter_weight + vc_int\n",
    "\n",
    "# Plot the linear model on top of scatter plot \n",
    "scatter_weight = alldata_cap_mean[\"Weight (g)\"]\n",
    "scatter_tumorvol = alldata_cap_mean['Tumor Volume (mm3)']\n",
    "plt.scatter(scatter_weight,scatter_tumorvol)\n",
    "plt.plot(scatter_weight,vc_fit,\"--\")\n",
    "plt.xticks(scatter_weight, rotation=90)\n",
    "plt.xlabel('Weight (g)')\n",
    "plt.ylabel('Tumor Volume (mm3)')\n",
    "plt.show()"
   ]
  },
  {
   "cell_type": "code",
   "execution_count": null,
   "metadata": {},
   "outputs": [],
   "source": []
  }
 ],
 "metadata": {
  "anaconda-cloud": {},
  "kernelspec": {
   "display_name": "Python [conda env:PythonData]",
   "language": "python",
   "name": "conda-env-PythonData-py"
  },
  "language_info": {
   "codemirror_mode": {
    "name": "ipython",
    "version": 3
   },
   "file_extension": ".py",
   "mimetype": "text/x-python",
   "name": "python",
   "nbconvert_exporter": "python",
   "pygments_lexer": "ipython3",
   "version": "3.6.10"
  }
 },
 "nbformat": 4,
 "nbformat_minor": 2
}
